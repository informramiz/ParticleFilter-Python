{
 "cells": [
  {
   "cell_type": "code",
   "execution_count": 1,
   "metadata": {
    "collapsed": false
   },
   "outputs": [],
   "source": [
    "from math import *\n",
    "import random\n",
    "\n",
    "landmarks  = [[20.0, 20.0], [80.0, 80.0], [20.0, 80.0], [80.0, 20.0]]\n",
    "world_size = 100.0\n",
    "\n",
    "\n",
    "class robot:\n",
    "    def __init__(self):\n",
    "        self.x = random.random() * world_size\n",
    "        self.y = random.random() * world_size\n",
    "        self.orientation = random.random() * 2.0 * pi\n",
    "        self.forward_noise = 0.0;\n",
    "        self.turn_noise    = 0.0;\n",
    "        self.sense_noise   = 0.0;\n",
    "    \n",
    "    def set(self, new_x, new_y, new_orientation):\n",
    "        if new_x < 0 or new_x >= world_size:\n",
    "            raise ValueError('X coordinate out of bound')\n",
    "        if new_y < 0 or new_y >= world_size:\n",
    "            raise ValueError('Y coordinate out of bound')\n",
    "        if new_orientation < 0 or new_orientation >= 2 * pi:\n",
    "            raise ValueError ('Orientation must be in [0..2pi]')\n",
    "        self.x = float(new_x)\n",
    "        self.y = float(new_y)\n",
    "        self.orientation = float(new_orientation)\n",
    "    \n",
    "    \n",
    "    def set_noise(self, new_f_noise, new_t_noise, new_s_noise):\n",
    "        # makes it possible to change the noise parameters\n",
    "        # this is often useful in particle filters\n",
    "        self.forward_noise = float(new_f_noise);\n",
    "        self.turn_noise    = float(new_t_noise);\n",
    "        self.sense_noise   = float(new_s_noise);\n",
    "    \n",
    "    \n",
    "    def sense(self):\n",
    "        Z = []\n",
    "        for i in range(len(landmarks)):\n",
    "            dist = sqrt((self.x - landmarks[i][0]) ** 2 + (self.y - landmarks[i][1]) ** 2)\n",
    "            dist += random.gauss(0.0, self.sense_noise)\n",
    "            Z.append(dist)\n",
    "        return Z\n",
    "    \n",
    "    \n",
    "    def move(self, turn, forward):\n",
    "        if forward < 0:\n",
    "            raise ValueError ('Robot cant move backwards')\n",
    "        \n",
    "        # turn, and add randomness to the turning command\n",
    "        orientation = self.orientation + float(turn) + random.gauss(0.0, self.turn_noise)\n",
    "        orientation %= 2 * pi\n",
    "        \n",
    "        # move, and add randomness to the motion command\n",
    "        dist = float(forward) + random.gauss(0.0, self.forward_noise)\n",
    "        x = self.x + (cos(orientation) * dist)\n",
    "        y = self.y + (sin(orientation) * dist)\n",
    "        x %= world_size    # cyclic truncate\n",
    "        y %= world_size\n",
    "        \n",
    "        # set particle\n",
    "        res = robot()\n",
    "        res.set(x, y, orientation)\n",
    "        res.set_noise(self.forward_noise, self.turn_noise, self.sense_noise)\n",
    "        return res\n",
    "    \n",
    "    def Gaussian(self, mu, sigma, x):\n",
    "        \n",
    "        # calculates the probability of x for 1-dim Gaussian with mean mu and var. sigma\n",
    "        return exp(- ((mu - x) ** 2) / (sigma ** 2) / 2.0) / sqrt(2.0 * pi * (sigma ** 2))\n",
    "    \n",
    "    \n",
    "    def measurement_prob(self, measurement):\n",
    "        \n",
    "        # calculates how likely a measurement should be\n",
    "        \n",
    "        prob = 1.0;\n",
    "        for i in range(len(landmarks)):\n",
    "            dist = sqrt((self.x - landmarks[i][0]) ** 2 + (self.y - landmarks[i][1]) ** 2)\n",
    "            prob *= self.Gaussian(dist, self.sense_noise, measurement[i])\n",
    "        return prob\n",
    "    \n",
    "    \n",
    "    \n",
    "    def __repr__(self):\n",
    "        return '[x=%.6s y=%.6s orient=%.6s]' % (str(self.x), str(self.y), str(self.orientation))\n",
    "\n",
    "\n",
    "\n",
    "def eval(r, p):\n",
    "    sum = 0.0;\n",
    "    for i in range(len(p)): # calculate mean error\n",
    "        dx = (p[i].x - r.x + (world_size/2.0)) % world_size - (world_size/2.0)\n",
    "        dy = (p[i].y - r.y + (world_size/2.0)) % world_size - (world_size/2.0)\n",
    "        err = sqrt(dx * dx + dy * dy)\n",
    "        sum += err\n",
    "    return sum / float(len(p))"
   ]
  },
  {
   "cell_type": "code",
   "execution_count": null,
   "metadata": {
    "collapsed": false
   },
   "outputs": [],
   "source": [
    "# Make a robot called myrobot that starts at\n",
    "# coordinates 30, 50 heading north (pi/2).\n",
    "my_robot = robot()\n",
    "my_robot.set(30, 50, pi/2)\n",
    "\n",
    "# Now add noise to your robot as follows:\n",
    "# forward_noise = 5.0, turn_noise = 0.1,\n",
    "# sense_noise = 5.0.\n",
    "my_robot.set_noise(5.0, 0.1, 5.0)\n",
    "\n",
    "# Have your robot turn clockwise by pi/2, move\n",
    "# 15 m, and sense (also print sensed measurements)\n",
    "my_robot = my_robot.move(-pi/2, 15)\n",
    "print(my_robot.sense())\n",
    "\n",
    "\n",
    "#Then have it turn clockwise\n",
    "# by pi/2 again, move 10 m, and sense again (also print sensed measurements).\n",
    "my_robot = my_robot.move(-pi/2, 10)\n",
    "print(my_robot.sense())"
   ]
  },
  {
   "cell_type": "code",
   "execution_count": null,
   "metadata": {
    "collapsed": true
   },
   "outputs": [],
   "source": []
  },
  {
   "cell_type": "code",
   "execution_count": 5,
   "metadata": {
    "collapsed": true
   },
   "outputs": [],
   "source": [
    "from random import randrange\n",
    "\n",
    "#pick a particle index based on beta passed and weights\n",
    "def pick_particle_index(index, w_p, beta):\n",
    "    while w_p[index] < beta:\n",
    "        beta -= w_p[index]\n",
    "        index = (index + 1) % len(w_p);\n",
    "        \n",
    "    return index, beta\n",
    "\n",
    "def resample_particles(p, w):\n",
    "    #Generate a random index\n",
    "    index = int(random.random() * len(p));\n",
    "    #find maximum particle weight\n",
    "    w_max = max(w)\n",
    "\n",
    "    beta = 0\n",
    "    p3 = []\n",
    "\n",
    "    for i in range(len(p)):\n",
    "        #set beta to any number between \n",
    "        beta += random.random() * 2 * w_max\n",
    "        index, beta = pick_particle_index(index, w, beta)\n",
    "        p3.append(p[index])\n",
    "        \n",
    "    return p3\n",
    "\n",
    "# Each particle should turn by \n",
    "# and then move by (as did the robot myrobot above)\n",
    "def move_particles(p, heading, forward):\n",
    "    p2 = []\n",
    "    for i in range(len(p)):\n",
    "        p2.append(p[i].move(heading, forward))\n",
    "\n",
    "    return p2\n",
    "\n",
    "#calculate mismatch (or likelihood of a measurement) between predicted measurement of each particle p[i]\n",
    "#and actual measurement Z that the robot (myrobot) sensed\n",
    "#the lesser the mismatch, the great the likelihood probability of the measurement\n",
    "def calculate_weights(p, Z):\n",
    "    w = []\n",
    "    for i in range(len(p)):\n",
    "        w.append(p[i].measurement_prob(Z))\n",
    "        \n",
    "    return w"
   ]
  },
  {
   "cell_type": "code",
   "execution_count": 17,
   "metadata": {
    "collapsed": false
   },
   "outputs": [
    {
     "name": "stdout",
     "output_type": "stream",
     "text": [
      "4.9176049839191265\n",
      "7.644928875884506\n",
      "7.060778408340283\n",
      "6.8104767835526285\n",
      "6.942908499887393\n",
      "6.752593189983734\n",
      "6.381536235007098\n",
      "6.582107121822332\n",
      "6.566275707807791\n",
      "6.546549791629817\n"
     ]
    }
   ],
   "source": [
    "#create a robot and move it\n",
    "myrobot = robot()\n",
    "myrobot = myrobot.move(0.1, 5.0)\n",
    "Z = myrobot.sense()\n",
    "\n",
    "#create a list of 1000 particles (robot class objects, randomly initialized automatically)\n",
    "#each particle is a vector = [x-coord, y-coord, heading-direction angle]\n",
    "N = 1000\n",
    "p = []\n",
    "for i in range(N):\n",
    "    x = robot()\n",
    "    x.set_noise(0.05, 0.05, 5.0)\n",
    "    p.append(x)\n",
    "\n",
    "T = 10\n",
    "for i in range(T):\n",
    "    #move the robot and sense measurement\n",
    "    myrobot = myrobot.move(0.1, 5.0)\n",
    "    Z = myrobot.sense()\n",
    "    \n",
    "    #move the particles accordingly and \n",
    "    #calculate their weights. \n",
    "    p = move_particles(p, 0.1, 5.0)\n",
    "    w = calculate_weights(p, Z)\n",
    "    #resample particles according to their weights\n",
    "    p = resample_particles(p, w)\n",
    "    \n",
    "    #calculate error\n",
    "    error = eval(myrobot, p)\n",
    "    print(error)"
   ]
  },
  {
   "cell_type": "code",
   "execution_count": 9,
   "metadata": {
    "collapsed": false
   },
   "outputs": [
    {
     "name": "stdout",
     "output_type": "stream",
     "text": [
      "[[x=83.208 y=30.282 orient=1.1815], [x=83.821 y=30.090 orient=1.1234], [x=82.271 y=30.526 orient=1.3215], [x=82.842 y=30.346 orient=1.2496], [x=83.356 y=30.133 orient=1.1846], [x=82.883 y=30.205 orient=1.2794], [x=82.735 y=30.312 orient=1.3080], [x=82.787 y=30.227 orient=1.2578], [x=82.841 y=30.357 orient=1.2497], [x=83.793 y=29.923 orient=1.1518], [x=82.418 y=30.442 orient=1.2804], [x=82.418 y=30.442 orient=1.2804], [x=82.178 y=30.627 orient=1.3358], [x=83.402 y=30.158 orient=1.1959], [x=83.402 y=30.158 orient=1.1959], [x=83.402 y=30.158 orient=1.1959], [x=83.746 y=29.949 orient=1.1495], [x=83.045 y=30.292 orient=1.2729], [x=83.381 y=30.065 orient=1.1855], [x=83.381 y=30.065 orient=1.1855], [x=82.340 y=30.487 orient=1.3292], [x=82.340 y=30.487 orient=1.3292], [x=82.971 y=30.254 orient=1.2431], [x=82.971 y=30.254 orient=1.2431], [x=83.591 y=30.076 orient=1.1968], [x=83.591 y=30.076 orient=1.1968], [x=83.292 y=30.200 orient=1.1948], [x=83.292 y=30.200 orient=1.1948], [x=83.505 y=30.055 orient=1.1926], [x=82.763 y=30.360 orient=1.2917], [x=82.763 y=30.360 orient=1.2917], [x=81.486 y=30.633 orient=1.4454], [x=82.894 y=30.269 orient=1.2662], [x=82.894 y=30.269 orient=1.2662], [x=84.124 y=29.770 orient=1.1120], [x=82.474 y=30.496 orient=1.3175], [x=82.474 y=30.496 orient=1.3175], [x=82.754 y=30.427 orient=1.2601], [x=82.919 y=30.380 orient=1.2239], [x=82.919 y=30.380 orient=1.2239], [x=82.919 y=30.380 orient=1.2239], [x=83.772 y=29.903 orient=1.1367], [x=83.960 y=29.796 orient=1.1361], [x=83.025 y=30.281 orient=1.2371], [x=83.025 y=30.281 orient=1.2371], [x=83.025 y=30.281 orient=1.2371], [x=82.647 y=30.399 orient=1.3160], [x=83.355 y=30.099 orient=1.1924], [x=83.432 y=30.085 orient=1.2134], [x=91.666 y=28.133 orient=0.1396], [x=82.133 y=30.516 orient=1.3546], [x=83.504 y=30.201 orient=1.1830], [x=83.737 y=29.823 orient=1.1566], [x=82.941 y=30.286 orient=1.2709], [x=91.665 y=27.806 orient=0.0941], [x=83.218 y=30.169 orient=1.2441], [x=82.387 y=30.482 orient=1.3028], [x=82.778 y=30.361 orient=1.2729], [x=82.694 y=30.450 orient=1.2939], [x=83.048 y=30.273 orient=1.2435], [x=83.171 y=30.169 orient=1.2134], [x=83.749 y=29.980 orient=1.1146], [x=83.147 y=30.318 orient=1.2115], [x=83.778 y=30.008 orient=1.1145], [x=82.666 y=30.360 orient=1.2972], [x=82.666 y=30.360 orient=1.2972], [x=82.993 y=30.179 orient=1.2467], [x=83.443 y=30.116 orient=1.1972], [x=83.443 y=30.116 orient=1.1972], [x=83.471 y=30.111 orient=1.1915], [x=83.229 y=30.094 orient=1.2183], [x=83.229 y=30.094 orient=1.2183], [x=83.217 y=30.367 orient=1.2299], [x=83.217 y=30.367 orient=1.2299], [x=82.377 y=30.421 orient=1.3085], [x=82.377 y=30.421 orient=1.3085], [x=82.445 y=30.441 orient=1.2964], [x=83.423 y=30.148 orient=1.1976], [x=83.172 y=30.297 orient=1.2113], [x=83.918 y=29.901 orient=1.1303], [x=83.918 y=29.901 orient=1.1303], [x=83.918 y=29.901 orient=1.1303], [x=82.534 y=30.617 orient=1.2815], [x=82.534 y=30.617 orient=1.2815], [x=82.769 y=30.398 orient=1.2740], [x=83.840 y=29.942 orient=1.1281], [x=83.701 y=30.021 orient=1.1635], [x=83.084 y=30.140 orient=1.2522], [x=82.911 y=30.412 orient=1.2860], [x=82.911 y=30.412 orient=1.2860], [x=83.078 y=30.279 orient=1.2424], [x=83.078 y=30.279 orient=1.2424], [x=83.709 y=30.083 orient=1.1356], [x=83.709 y=30.083 orient=1.1356], [x=83.100 y=30.198 orient=1.2033], [x=82.782 y=30.312 orient=1.2720], [x=82.782 y=30.312 orient=1.2720], [x=83.460 y=30.135 orient=1.2148], [x=83.460 y=30.135 orient=1.2148], [x=82.642 y=30.356 orient=1.2834], [x=83.714 y=29.888 orient=1.1082], [x=83.714 y=29.888 orient=1.1082], [x=83.008 y=30.271 orient=1.2300], [x=83.200 y=30.091 orient=1.2337], [x=83.114 y=30.179 orient=1.2375], [x=83.114 y=30.179 orient=1.2375], [x=82.264 y=30.357 orient=1.3211], [x=82.963 y=30.251 orient=1.2462], [x=82.715 y=30.272 orient=1.2956], [x=83.179 y=30.310 orient=1.1729], [x=83.325 y=30.363 orient=1.2502], [x=83.805 y=29.973 orient=1.1003], [x=83.805 y=29.973 orient=1.1003], [x=83.031 y=30.219 orient=1.2525], [x=82.849 y=30.350 orient=1.2337], [x=83.699 y=30.001 orient=1.1903], [x=83.699 y=30.001 orient=1.1903], [x=84.089 y=29.884 orient=1.1099], [x=83.455 y=30.070 orient=1.1817], [x=83.455 y=30.070 orient=1.1817], [x=83.077 y=30.348 orient=1.2117], [x=83.077 y=30.348 orient=1.2117], [x=83.027 y=30.278 orient=1.2161], [x=83.646 y=29.955 orient=1.1343], [x=83.079 y=30.190 orient=1.2673], [x=83.548 y=29.946 orient=1.1989], [x=84.136 y=29.683 orient=1.0687], [x=84.136 y=29.683 orient=1.0687], [x=83.138 y=30.302 orient=1.1891], [x=82.022 y=30.756 orient=1.3320], [x=82.918 y=30.401 orient=1.2429], [x=83.233 y=30.094 orient=1.2302], [x=83.233 y=30.094 orient=1.2302], [x=84.854 y=33.739 orient=2.3472], [x=82.268 y=30.541 orient=1.3295], [x=82.268 y=30.541 orient=1.3295], [x=82.791 y=30.374 orient=1.2115], [x=83.290 y=30.158 orient=1.2345], [x=83.007 y=30.318 orient=1.2166], [x=83.293 y=30.175 orient=1.2081], [x=91.722 y=28.341 orient=0.1226], [x=82.768 y=30.383 orient=1.3053], [x=82.768 y=30.383 orient=1.3053], [x=83.157 y=30.226 orient=1.1812], [x=83.104 y=30.407 orient=1.2683], [x=83.670 y=29.802 orient=1.1176], [x=84.120 y=29.746 orient=1.0642], [x=83.250 y=30.262 orient=1.2243], [x=83.250 y=30.262 orient=1.2243], [x=83.109 y=30.224 orient=1.2341], [x=83.109 y=30.224 orient=1.2341], [x=82.070 y=30.530 orient=1.3835], [x=82.846 y=30.406 orient=1.2766], [x=82.807 y=30.415 orient=1.2845], [x=83.488 y=30.114 orient=1.2186], [x=83.703 y=29.895 orient=1.1436], [x=83.233 y=30.217 orient=1.1923], [x=81.826 y=30.655 orient=1.3792], [x=82.009 y=30.558 orient=1.3855], [x=83.318 y=30.306 orient=1.2113], [x=80.976 y=28.973 orient=0.1760], [x=83.576 y=30.165 orient=1.1297], [x=83.576 y=30.165 orient=1.1297], [x=82.966 y=30.245 orient=1.2076], [x=82.966 y=30.245 orient=1.2076], [x=82.434 y=30.473 orient=1.3242], [x=82.434 y=30.473 orient=1.3242], [x=82.572 y=30.379 orient=1.3144], [x=83.715 y=30.007 orient=1.1556], [x=84.165 y=29.682 orient=1.0458], [x=84.165 y=29.682 orient=1.0458], [x=83.851 y=29.872 orient=1.1622], [x=83.851 y=29.872 orient=1.1622], [x=82.923 y=30.314 orient=1.2585], [x=83.210 y=30.169 orient=1.2227], [x=83.507 y=30.080 orient=1.1701], [x=83.030 y=30.350 orient=1.2772], [x=82.663 y=30.503 orient=1.2534], [x=82.063 y=30.531 orient=1.3934], [x=82.063 y=30.531 orient=1.3934], [x=83.909 y=29.982 orient=1.0915], [x=83.126 y=30.268 orient=1.2393], [x=83.444 y=30.006 orient=1.2254], [x=83.305 y=30.269 orient=1.2009], [x=82.820 y=30.367 orient=1.3155], [x=83.637 y=30.109 orient=1.1457], [x=83.144 y=30.281 orient=1.2489], [x=83.300 y=30.282 orient=1.2200], [x=82.225 y=30.567 orient=1.3385], [x=84.542 y=29.543 orient=1.0479], [x=84.456 y=29.683 orient=1.0766], [x=83.049 y=30.141 orient=1.2347], [x=83.501 y=29.994 orient=1.1607], [x=83.501 y=29.994 orient=1.1607], [x=82.836 y=30.393 orient=1.2750], [x=83.165 y=30.233 orient=1.2441], [x=83.165 y=30.233 orient=1.2441], [x=83.165 y=30.233 orient=1.2441], [x=82.911 y=30.348 orient=1.2498], [x=82.955 y=30.338 orient=1.3214], [x=82.955 y=30.338 orient=1.3214], [x=83.080 y=30.197 orient=1.2313], [x=83.080 y=30.197 orient=1.2313], [x=83.210 y=30.288 orient=1.2054], [x=83.079 y=30.218 orient=1.2547], [x=83.079 y=30.218 orient=1.2547], [x=83.176 y=30.346 orient=1.2362], [x=83.824 y=30.142 orient=1.1405], [x=83.416 y=30.131 orient=1.1978], [x=83.681 y=30.084 orient=1.1454], [x=83.256 y=30.046 orient=1.1860], [x=82.668 y=30.506 orient=1.3188], [x=83.634 y=29.886 orient=1.1812], [x=82.514 y=30.590 orient=1.2836], [x=82.442 y=30.561 orient=1.2960], [x=82.848 y=30.269 orient=1.2508], [x=82.848 y=30.269 orient=1.2508], [x=83.664 y=30.051 orient=1.1727], [x=83.030 y=30.212 orient=1.2669], [x=83.220 y=30.389 orient=1.2260], [x=84.260 y=29.744 orient=1.0657], [x=83.498 y=30.158 orient=1.1610], [x=83.145 y=30.186 orient=1.1905], [x=83.341 y=30.148 orient=1.1598], [x=82.947 y=30.346 orient=1.2969], [x=82.947 y=30.346 orient=1.2969], [x=83.561 y=29.926 orient=1.1503], [x=83.561 y=29.926 orient=1.1503], [x=83.541 y=29.991 orient=1.1893], [x=83.541 y=29.991 orient=1.1893], [x=83.477 y=30.000 orient=1.2020], [x=83.477 y=30.000 orient=1.2020], [x=82.984 y=30.259 orient=1.2079], [x=82.984 y=30.259 orient=1.2079], [x=82.899 y=30.303 orient=1.2493], [x=82.918 y=30.296 orient=1.2453], [x=83.059 y=30.304 orient=1.2226], [x=83.171 y=30.313 orient=1.2207], [x=83.501 y=30.076 orient=1.1580], [x=91.708 y=27.367 orient=0.0319], [x=83.122 y=30.256 orient=1.2165], [x=83.122 y=30.256 orient=1.2165], [x=82.511 y=30.479 orient=1.3107], [x=82.511 y=30.479 orient=1.3107], [x=83.066 y=30.262 orient=1.2390], [x=82.980 y=30.164 orient=1.2951], [x=82.980 y=30.164 orient=1.2951], [x=82.980 y=30.164 orient=1.2951], [x=83.588 y=30.106 orient=1.1406], [x=83.588 y=30.106 orient=1.1406], [x=82.909 y=30.280 orient=1.2795], [x=83.200 y=30.261 orient=1.2401], [x=83.745 y=29.865 orient=1.1206], [x=83.598 y=30.036 orient=1.1610], [x=82.417 y=30.488 orient=1.2879], [x=83.443 y=30.220 orient=1.1921], [x=82.089 y=30.571 orient=1.4133], [x=83.293 y=30.176 orient=1.2160], [x=83.293 y=30.176 orient=1.2160], [x=83.311 y=30.105 orient=1.2179], [x=82.749 y=30.431 orient=1.2712], [x=83.725 y=30.123 orient=1.1410], [x=81.817 y=30.872 orient=1.3767], [x=82.633 y=30.433 orient=1.2983], [x=82.120 y=30.590 orient=1.3604], [x=82.120 y=30.590 orient=1.3604], [x=83.086 y=30.197 orient=1.2674], [x=83.491 y=30.053 orient=1.1892], [x=82.985 y=30.258 orient=1.2629], [x=83.478 y=30.011 orient=1.1524], [x=82.851 y=30.234 orient=1.2462], [x=83.049 y=30.323 orient=1.2739], [x=83.256 y=30.083 orient=1.2167], [x=83.256 y=30.083 orient=1.2167], [x=83.687 y=29.958 orient=1.1280], [x=83.254 y=30.092 orient=1.2190], [x=84.072 y=29.711 orient=1.0693], [x=83.589 y=30.012 orient=1.1507], [x=83.125 y=30.274 orient=1.2485], [x=82.332 y=30.414 orient=1.3273], [x=82.332 y=30.414 orient=1.3273], [x=83.348 y=30.069 orient=1.2227], [x=83.832 y=29.863 orient=1.1177], [x=81.803 y=30.644 orient=1.3833], [x=81.803 y=30.644 orient=1.3833], [x=82.237 y=30.627 orient=1.3437], [x=83.218 y=30.193 orient=1.2001], [x=83.132 y=30.349 orient=1.2257], [x=83.132 y=30.349 orient=1.2257], [x=82.741 y=30.438 orient=1.2632], [x=83.200 y=30.207 orient=1.1839], [x=83.145 y=30.164 orient=1.2517], [x=83.145 y=30.164 orient=1.2517], [x=83.668 y=30.046 orient=1.1450], [x=82.838 y=30.310 orient=1.2344], [x=82.838 y=30.310 orient=1.2344], [x=83.735 y=30.029 orient=1.1149], [x=83.428 y=30.136 orient=1.1792], [x=83.690 y=29.912 orient=1.1950], [x=83.615 y=30.044 orient=1.1493], [x=82.805 y=30.411 orient=1.2454], [x=83.402 y=30.165 orient=1.1958], [x=83.507 y=30.189 orient=1.2068], [x=83.267 y=30.151 orient=1.2656], [x=83.267 y=30.151 orient=1.2656], [x=83.267 y=30.151 orient=1.2656], [x=83.880 y=29.879 orient=1.1326], [x=82.559 y=30.457 orient=1.2930], [x=83.295 y=30.289 orient=1.2281], [x=83.135 y=30.121 orient=1.2331], [x=83.489 y=30.090 orient=1.1644], [x=83.489 y=30.090 orient=1.1644], [x=83.489 y=30.090 orient=1.1644], [x=83.707 y=30.018 orient=1.1255], [x=83.087 y=30.227 orient=1.2565], [x=83.087 y=30.227 orient=1.2565], [x=82.452 y=30.408 orient=1.2862], [x=82.951 y=30.292 orient=1.2356], [x=83.123 y=30.180 orient=1.2233], [x=83.160 y=30.240 orient=1.2204], [x=83.099 y=30.326 orient=1.2374], [x=84.173 y=29.740 orient=1.0617], [x=82.495 y=30.493 orient=1.2804], [x=82.847 y=30.385 orient=1.2724], [x=82.915 y=30.278 orient=1.2527], [x=83.283 y=30.110 orient=1.2135], [x=82.729 y=30.395 orient=1.2870], [x=83.013 y=30.284 orient=1.2262], [x=83.013 y=30.284 orient=1.2262], [x=83.462 y=30.134 orient=1.2130], [x=83.606 y=30.133 orient=1.1863], [x=83.197 y=30.175 orient=1.2080], [x=83.451 y=30.081 orient=1.1450], [x=82.939 y=30.114 orient=1.2752], [x=83.305 y=30.288 orient=1.2472], [x=82.470 y=30.413 orient=1.2899], [x=83.233 y=30.308 orient=1.2440], [x=83.938 y=29.920 orient=1.0852], [x=83.781 y=29.976 orient=1.1183], [x=83.636 y=30.039 orient=1.1924], [x=82.541 y=30.374 orient=1.2942], [x=82.541 y=30.374 orient=1.2942], [x=82.825 y=30.413 orient=1.2642], [x=82.825 y=30.413 orient=1.2642], [x=82.935 y=30.412 orient=1.2433], [x=82.614 y=30.404 orient=1.3042], [x=82.614 y=30.404 orient=1.3042], [x=83.163 y=30.143 orient=1.2373], [x=83.163 y=30.143 orient=1.2373], [x=83.163 y=30.143 orient=1.2373], [x=82.691 y=30.305 orient=1.3376], [x=82.244 y=30.458 orient=1.3397], [x=82.655 y=30.473 orient=1.2612], [x=82.655 y=30.473 orient=1.2612], [x=83.613 y=29.996 orient=1.2040], [x=83.073 y=30.253 orient=1.2418], [x=82.573 y=30.331 orient=1.3423], [x=83.276 y=30.151 orient=1.1885], [x=83.006 y=30.189 orient=1.2169], [x=82.683 y=30.393 orient=1.2920], [x=82.683 y=30.393 orient=1.2920], [x=82.905 y=30.410 orient=1.2510], [x=82.390 y=30.539 orient=1.3594], [x=83.500 y=29.965 orient=1.1648], [x=83.587 y=30.067 orient=1.1864], [x=82.325 y=30.519 orient=1.3526], [x=82.882 y=30.413 orient=1.2408], [x=82.783 y=30.418 orient=1.2598], [x=82.984 y=30.204 orient=1.2671], [x=82.984 y=30.204 orient=1.2671], [x=83.212 y=30.175 orient=1.2370], [x=83.389 y=30.164 orient=1.1824], [x=83.184 y=30.191 orient=1.2003], [x=82.881 y=30.263 orient=1.2746], [x=82.881 y=30.263 orient=1.2746], [x=83.352 y=30.144 orient=1.1963], [x=83.357 y=30.043 orient=1.1955], [x=83.258 y=30.261 orient=1.2293], [x=83.538 y=29.944 orient=1.1648], [x=83.538 y=29.944 orient=1.1648], [x=83.388 y=30.073 orient=1.2021], [x=83.482 y=30.157 orient=1.2415], [x=83.512 y=29.989 orient=1.2245], [x=83.116 y=30.178 orient=1.2524], [x=83.551 y=30.009 orient=1.1592], [x=83.375 y=30.288 orient=1.2096], [x=83.375 y=30.288 orient=1.2096], [x=83.260 y=30.136 orient=1.2295], [x=83.260 y=30.136 orient=1.2295], [x=83.730 y=29.865 orient=1.1210], [x=83.924 y=29.809 orient=1.1184], [x=83.924 y=29.809 orient=1.1184], [x=83.924 y=29.809 orient=1.1184], [x=83.987 y=29.860 orient=1.1115], [x=83.957 y=29.790 orient=1.1108], [x=81.918 y=30.905 orient=1.3586], [x=81.918 y=30.905 orient=1.3586], [x=83.409 y=30.149 orient=1.2037], [x=83.781 y=30.079 orient=1.1297], [x=82.211 y=30.619 orient=1.3441], [x=82.211 y=30.619 orient=1.3441], [x=82.211 y=30.619 orient=1.3441], [x=83.419 y=29.992 orient=1.1899], [x=83.285 y=30.317 orient=1.2457], [x=82.808 y=30.457 orient=1.2626], [x=82.796 y=30.461 orient=1.2652], [x=82.796 y=30.461 orient=1.2652], [x=83.139 y=30.185 orient=1.2290], [x=83.316 y=30.177 orient=1.1885], [x=82.944 y=30.182 orient=1.2255], [x=82.962 y=30.354 orient=1.2267], [x=82.962 y=30.354 orient=1.2267], [x=82.513 y=30.456 orient=1.3183], [x=83.404 y=30.132 orient=1.1936], [x=79.585 y=24.776 orient=1.5264], [x=82.302 y=30.431 orient=1.3023], [x=82.519 y=30.391 orient=1.2999], [x=82.047 y=30.509 orient=1.3971], [x=83.784 y=29.897 orient=1.1383], [x=83.416 y=30.178 orient=1.1876], [x=83.444 y=30.126 orient=1.1481], [x=83.444 y=30.126 orient=1.1481], [x=82.780 y=30.303 orient=1.2848], [x=82.780 y=30.303 orient=1.2848], [x=82.780 y=30.303 orient=1.2848], [x=83.112 y=30.280 orient=1.2372], [x=83.112 y=30.280 orient=1.2372], [x=82.627 y=30.349 orient=1.2667], [x=83.370 y=30.021 orient=1.2151], [x=82.492 y=30.421 orient=1.3479], [x=83.121 y=30.336 orient=1.2217], [x=81.802 y=30.517 orient=1.3787], [x=82.453 y=30.405 orient=1.2908], [x=83.078 y=30.288 orient=1.2550], [x=82.370 y=30.553 orient=1.3403], [x=82.637 y=30.485 orient=1.3073], [x=82.689 y=30.416 orient=1.2691], [x=82.689 y=30.416 orient=1.2691], [x=83.108 y=30.255 orient=1.2473], [x=83.099 y=30.329 orient=1.2535], [x=84.018 y=29.812 orient=1.1269], [x=83.609 y=29.997 orient=1.2161], [x=83.624 y=30.084 orient=1.1509], [x=83.450 y=29.979 orient=1.1658], [x=83.451 y=30.120 orient=1.2123], [x=83.451 y=30.120 orient=1.2123], [x=82.453 y=30.497 orient=1.2922], [x=82.453 y=30.497 orient=1.2922], [x=83.591 y=29.986 orient=1.1940], [x=83.591 y=29.986 orient=1.1940], [x=82.644 y=30.427 orient=1.2752], [x=82.644 y=30.427 orient=1.2752], [x=83.327 y=30.227 orient=1.2180], [x=83.327 y=30.227 orient=1.2180], [x=83.661 y=30.018 orient=1.1396], [x=83.661 y=30.018 orient=1.1396], [x=83.661 y=30.018 orient=1.1396], [x=83.709 y=30.089 orient=1.1196], [x=83.147 y=30.281 orient=1.2361], [x=83.147 y=30.281 orient=1.2361], [x=83.179 y=30.263 orient=1.2240], [x=83.179 y=30.263 orient=1.2240], [x=82.913 y=30.248 orient=1.2741], [x=82.938 y=30.262 orient=1.2799], [x=82.938 y=30.262 orient=1.2799], [x=83.583 y=30.052 orient=1.1509], [x=83.387 y=30.039 orient=1.2034], [x=91.722 y=27.728 orient=0.0570], [x=83.832 y=29.836 orient=1.1313], [x=83.750 y=29.944 orient=1.1552], [x=82.198 y=30.612 orient=1.3439], [x=83.436 y=30.048 orient=1.1801], [x=83.383 y=30.212 orient=1.2022], [x=82.706 y=30.281 orient=1.2850], [x=83.516 y=30.149 orient=1.2040], [x=82.968 y=30.286 orient=1.2581], [x=82.968 y=30.286 orient=1.2581], [x=83.320 y=30.135 orient=1.2212], [x=83.779 y=30.148 orient=1.1490], [x=83.779 y=30.148 orient=1.1490], [x=82.683 y=30.315 orient=1.2433], [x=82.683 y=30.315 orient=1.2433], [x=83.327 y=30.144 orient=1.2155], [x=83.426 y=30.080 orient=1.1921], [x=82.996 y=30.095 orient=1.2387], [x=82.787 y=30.290 orient=1.2842], [x=83.106 y=30.052 orient=1.2940], [x=83.106 y=30.052 orient=1.2940], [x=83.029 y=30.276 orient=1.1956], [x=83.029 y=30.276 orient=1.1956], [x=82.753 y=30.368 orient=1.2753], [x=82.753 y=30.368 orient=1.2753], [x=83.694 y=29.972 orient=1.1571], [x=83.507 y=30.166 orient=1.2100], [x=83.160 y=30.083 orient=1.2339], [x=83.337 y=30.098 orient=1.2014], [x=83.290 y=30.185 orient=1.2152], [x=83.165 y=30.164 orient=1.2376], [x=83.230 y=30.367 orient=1.2228], [x=82.200 y=30.576 orient=1.3535], [x=83.373 y=30.158 orient=1.1840], [x=82.393 y=30.404 orient=1.3724], [x=83.001 y=30.202 orient=1.2438], [x=82.704 y=30.399 orient=1.2883], [x=83.648 y=30.233 orient=1.1590], [x=83.204 y=30.255 orient=1.1848], [x=83.095 y=30.359 orient=1.2209], [x=82.568 y=30.407 orient=1.3243], [x=83.097 y=30.186 orient=1.1899], [x=83.097 y=30.186 orient=1.1899], [x=91.667 y=27.454 orient=0.0704], [x=83.125 y=30.145 orient=1.2509], [x=83.893 y=29.969 orient=1.1232], [x=82.023 y=30.465 orient=1.4099], [x=82.812 y=30.451 orient=1.2563], [x=82.526 y=30.384 orient=1.3033], [x=83.009 y=30.190 orient=1.2209], [x=82.989 y=30.226 orient=1.2306], [x=83.415 y=30.053 orient=1.1906], [x=83.052 y=30.248 orient=1.2536], [x=83.501 y=30.200 orient=1.1645], [x=83.501 y=30.200 orient=1.1645], [x=82.910 y=30.339 orient=1.2618], [x=82.982 y=30.405 orient=1.2523], [x=82.442 y=30.597 orient=1.3300], [x=82.442 y=30.597 orient=1.3300], [x=83.222 y=30.229 orient=1.2074], [x=83.023 y=30.142 orient=1.2856], [x=83.127 y=30.290 orient=1.2389], [x=83.349 y=30.011 orient=1.1947], [x=83.384 y=30.055 orient=1.2016], [x=83.657 y=29.931 orient=1.1337], [x=83.657 y=29.931 orient=1.1337], [x=83.683 y=30.097 orient=1.1384], [x=83.281 y=30.151 orient=1.2166], [x=83.352 y=30.159 orient=1.2139], [x=82.904 y=30.311 orient=1.2932], [x=83.499 y=30.252 orient=1.1694], [x=83.254 y=30.279 orient=1.2169], [x=82.267 y=30.484 orient=1.3330], [x=82.430 y=30.455 orient=1.2999], [x=82.210 y=30.486 orient=1.3442], [x=82.210 y=30.486 orient=1.3442], [x=82.465 y=30.411 orient=1.2909], [x=82.954 y=30.169 orient=1.2516], [x=83.537 y=29.965 orient=1.1280], [x=83.099 y=30.294 orient=1.2247], [x=83.249 y=30.328 orient=1.1993], [x=84.005 y=29.745 orient=1.1010], [x=83.368 y=30.103 orient=1.2466], [x=82.765 y=30.346 orient=1.2498], [x=82.765 y=30.346 orient=1.2498], [x=82.767 y=30.282 orient=1.2453], [x=83.633 y=30.039 orient=1.1735], [x=83.424 y=30.193 orient=1.2271], [x=83.505 y=30.103 orient=1.1694], [x=83.260 y=30.368 orient=1.2173], [x=83.112 y=30.350 orient=1.2438], [x=83.112 y=30.350 orient=1.2438], [x=84.328 y=29.727 orient=1.0522], [x=83.288 y=30.251 orient=1.2066], [x=83.345 y=30.064 orient=1.1692], [x=82.969 y=30.390 orient=1.2961], [x=83.136 y=30.229 orient=1.2042], [x=82.927 y=30.476 orient=1.2543], [x=82.927 y=30.476 orient=1.2543], [x=83.446 y=29.910 orient=1.1705], [x=83.446 y=29.910 orient=1.1705], [x=83.329 y=30.085 orient=1.2055], [x=83.329 y=30.085 orient=1.2055], [x=82.604 y=30.424 orient=1.2945], [x=82.604 y=30.424 orient=1.2945], [x=82.976 y=30.274 orient=1.2104], [x=82.931 y=30.227 orient=1.2384], [x=83.055 y=30.196 orient=1.2159], [x=83.438 y=29.946 orient=1.1782], [x=83.683 y=29.992 orient=1.1370], [x=81.885 y=30.681 orient=1.3966], [x=91.659 y=27.509 orient=0.0610], [x=83.593 y=29.977 orient=1.1659], [x=83.593 y=29.977 orient=1.1659], [x=83.423 y=30.166 orient=1.1848], [x=83.423 y=30.166 orient=1.1848], [x=83.521 y=30.011 orient=1.1624], [x=83.073 y=30.055 orient=1.2602], [x=83.147 y=30.101 orient=1.2416], [x=83.147 y=30.101 orient=1.2416], [x=83.256 y=30.242 orient=1.2274], [x=83.648 y=29.978 orient=1.1457], [x=83.772 y=30.000 orient=1.1224], [x=83.393 y=30.127 orient=1.2020], [x=83.821 y=30.090 orient=1.1234], [x=83.443 y=30.056 orient=1.1901], [x=83.443 y=30.056 orient=1.1901], [x=82.271 y=30.526 orient=1.3215], [x=82.271 y=30.526 orient=1.3215], [x=82.842 y=30.346 orient=1.2496], [x=83.356 y=30.133 orient=1.1846], [x=82.883 y=30.205 orient=1.2794], [x=82.735 y=30.312 orient=1.3080], [x=82.787 y=30.227 orient=1.2578], [x=82.923 y=30.381 orient=1.2359], [x=82.841 y=30.357 orient=1.2497], [x=84.053 y=29.773 orient=1.0915], [x=82.418 y=30.442 orient=1.2804], [x=82.418 y=30.442 orient=1.2804], [x=82.178 y=30.627 orient=1.3358], [x=82.178 y=30.627 orient=1.3358], [x=82.152 y=30.507 orient=1.3352], [x=83.402 y=30.158 orient=1.1959], [x=83.402 y=30.158 orient=1.1959], [x=83.746 y=29.949 orient=1.1495], [x=83.045 y=30.292 orient=1.2729], [x=83.325 y=30.289 orient=1.2202], [x=83.381 y=30.065 orient=1.1855], [x=83.051 y=30.238 orient=1.2289], [x=83.051 y=30.238 orient=1.2289], [x=82.340 y=30.487 orient=1.3292], [x=82.971 y=30.254 orient=1.2431], [x=83.591 y=30.076 orient=1.1968], [x=83.725 y=30.043 orient=1.1696], [x=83.505 y=30.055 orient=1.1926], [x=81.486 y=30.633 orient=1.4454], [x=81.486 y=30.633 orient=1.4454], [x=82.894 y=30.269 orient=1.2662], [x=81.981 y=33.975 orient=2.6540], [x=84.124 y=29.770 orient=1.1120], [x=82.441 y=30.594 orient=1.3710], [x=82.474 y=30.496 orient=1.3175], [x=82.754 y=30.427 orient=1.2601], [x=83.050 y=30.279 orient=1.2170], [x=83.864 y=29.984 orient=1.0883], [x=83.772 y=29.903 orient=1.1367], [x=83.960 y=29.796 orient=1.1361], [x=83.960 y=29.796 orient=1.1361], [x=83.020 y=30.253 orient=1.2362], [x=83.267 y=30.132 orient=1.1812], [x=83.267 y=30.132 orient=1.1812], [x=83.267 y=30.132 orient=1.1812], [x=83.180 y=30.212 orient=1.2313], [x=83.180 y=30.212 orient=1.2313], [x=83.355 y=30.099 orient=1.1924], [x=83.355 y=30.099 orient=1.1924], [x=83.432 y=30.085 orient=1.2134], [x=82.133 y=30.516 orient=1.3546], [x=83.504 y=30.201 orient=1.1830], [x=83.366 y=30.153 orient=1.1866], [x=83.366 y=30.153 orient=1.1866], [x=83.366 y=30.153 orient=1.1866], [x=83.737 y=29.823 orient=1.1566], [x=82.941 y=30.286 orient=1.2709], [x=83.218 y=30.169 orient=1.2441], [x=82.387 y=30.482 orient=1.3028], [x=82.694 y=30.450 orient=1.2939], [x=82.694 y=30.450 orient=1.2939], [x=84.686 y=29.400 orient=1.0082], [x=83.171 y=30.169 orient=1.2134], [x=83.171 y=30.169 orient=1.2134], [x=83.171 y=30.169 orient=1.2134], [x=83.749 y=29.980 orient=1.1146], [x=83.147 y=30.318 orient=1.2115], [x=83.778 y=30.008 orient=1.1145], [x=82.793 y=30.444 orient=1.2777], [x=82.666 y=30.360 orient=1.2972], [x=82.993 y=30.179 orient=1.2467], [x=83.300 y=30.123 orient=1.1851], [x=83.300 y=30.123 orient=1.1851], [x=83.471 y=30.111 orient=1.1915], [x=83.229 y=30.094 orient=1.2183], [x=83.217 y=30.367 orient=1.2299], [x=82.377 y=30.421 orient=1.3085], [x=82.445 y=30.441 orient=1.2964], [x=82.523 y=30.372 orient=1.2773], [x=83.145 y=30.106 orient=1.2112], [x=83.918 y=29.901 orient=1.1303], [x=83.918 y=29.901 orient=1.1303], [x=82.769 y=30.398 orient=1.2740], [x=83.840 y=29.942 orient=1.1281], [x=83.084 y=30.140 orient=1.2522], [x=83.474 y=30.102 orient=1.1749], [x=82.911 y=30.412 orient=1.2860], [x=84.153 y=29.745 orient=1.0844], [x=83.078 y=30.279 orient=1.2424], [x=83.709 y=30.083 orient=1.1356], [x=83.100 y=30.198 orient=1.2033], [x=83.100 y=30.198 orient=1.2033], [x=82.782 y=30.312 orient=1.2720], [x=82.782 y=30.312 orient=1.2720], [x=83.399 y=23.964 orient=1.0519], [x=82.272 y=30.449 orient=1.3561], [x=83.714 y=29.888 orient=1.1082], [x=83.200 y=30.091 orient=1.2337], [x=83.200 y=30.091 orient=1.2337], [x=83.200 y=30.091 orient=1.2337], [x=83.200 y=30.091 orient=1.2337], [x=83.200 y=30.091 orient=1.2337], [x=83.156 y=30.199 orient=1.2309], [x=82.264 y=30.357 orient=1.3211], [x=82.963 y=30.251 orient=1.2462], [x=83.179 y=30.310 orient=1.1729], [x=83.325 y=30.363 orient=1.2502], [x=83.805 y=29.973 orient=1.1003], [x=82.504 y=30.448 orient=1.3060], [x=82.849 y=30.350 orient=1.2337], [x=82.849 y=30.350 orient=1.2337], [x=83.699 y=30.001 orient=1.1903], [x=83.455 y=30.070 orient=1.1817], [x=83.455 y=30.070 orient=1.1817], [x=83.455 y=30.070 orient=1.1817], [x=83.077 y=30.348 orient=1.2117], [x=83.027 y=30.278 orient=1.2161], [x=83.646 y=29.955 orient=1.1343], [x=83.079 y=30.190 orient=1.2673], [x=83.079 y=30.190 orient=1.2673], [x=83.079 y=30.190 orient=1.2673], [x=83.079 y=30.190 orient=1.2673], [x=84.136 y=29.683 orient=1.0687], [x=82.022 y=30.756 orient=1.3320], [x=82.022 y=30.756 orient=1.3320], [x=83.396 y=30.264 orient=1.2143], [x=83.396 y=30.264 orient=1.2143], [x=83.233 y=30.094 orient=1.2302], [x=82.572 y=30.494 orient=1.2686], [x=82.572 y=30.494 orient=1.2686], [x=82.241 y=30.619 orient=1.3319], [x=82.241 y=30.619 orient=1.3319], [x=82.241 y=30.619 orient=1.3319], [x=83.687 y=30.035 orient=1.1516], [x=83.007 y=30.318 orient=1.2166], [x=83.007 y=30.318 orient=1.2166], [x=83.007 y=30.318 orient=1.2166], [x=83.007 y=30.318 orient=1.2166], [x=83.293 y=30.175 orient=1.2081], [x=82.960 y=30.079 orient=1.2153], [x=83.157 y=30.226 orient=1.1812], [x=83.157 y=30.226 orient=1.1812], [x=83.413 y=30.071 orient=1.1868], [x=83.413 y=30.071 orient=1.1868], [x=82.294 y=30.481 orient=1.3064], [x=83.351 y=30.044 orient=1.1979], [x=83.250 y=30.262 orient=1.2243], [x=83.109 y=30.224 orient=1.2341], [x=82.070 y=30.530 orient=1.3835], [x=82.846 y=30.406 orient=1.2766], [x=82.760 y=30.398 orient=1.2928], [x=82.807 y=30.415 orient=1.2845], [x=83.488 y=30.114 orient=1.2186], [x=83.488 y=30.114 orient=1.2186], [x=83.703 y=29.895 orient=1.1436], [x=81.826 y=30.655 orient=1.3792], [x=82.009 y=30.558 orient=1.3855], [x=83.318 y=30.306 orient=1.2113], [x=81.082 y=28.748 orient=0.1286], [x=83.576 y=30.165 orient=1.1297], [x=83.576 y=30.165 orient=1.1297], [x=82.966 y=30.245 orient=1.2076], [x=82.434 y=30.473 orient=1.3242], [x=82.434 y=30.473 orient=1.3242], [x=82.434 y=30.473 orient=1.3242], [x=82.572 y=30.379 orient=1.3144], [x=83.261 y=30.173 orient=1.2129], [x=83.715 y=30.007 orient=1.1556], [x=84.165 y=29.682 orient=1.0458], [x=84.165 y=29.682 orient=1.0458], [x=83.851 y=29.872 orient=1.1622], [x=83.851 y=29.872 orient=1.1622], [x=83.210 y=30.169 orient=1.2227], [x=83.507 y=30.080 orient=1.1701], [x=83.030 y=30.350 orient=1.2772], [x=84.200 y=29.849 orient=1.0739], [x=82.063 y=30.531 orient=1.3934], [x=83.909 y=29.982 orient=1.0915], [x=83.126 y=30.268 orient=1.2393], [x=84.025 y=29.779 orient=1.1002], [x=83.444 y=30.006 orient=1.2254], [x=83.444 y=30.006 orient=1.2254], [x=83.305 y=30.269 orient=1.2009], [x=82.820 y=30.367 orient=1.3155], [x=83.144 y=30.281 orient=1.2489], [x=83.144 y=30.281 orient=1.2489], [x=83.415 y=30.043 orient=1.1814], [x=82.225 y=30.567 orient=1.3385], [x=84.542 y=29.543 orient=1.0479], [x=84.456 y=29.683 orient=1.0766], [x=84.456 y=29.683 orient=1.0766], [x=84.456 y=29.683 orient=1.0766], [x=83.049 y=30.141 orient=1.2347], [x=83.501 y=29.994 orient=1.1607], [x=83.026 y=30.190 orient=1.2637], [x=82.836 y=30.393 orient=1.2750], [x=83.165 y=30.233 orient=1.2441], [x=82.955 y=30.338 orient=1.3214], [x=83.080 y=30.197 orient=1.2313], [x=83.217 y=30.279 orient=1.2034], [x=83.210 y=30.288 orient=1.2054], [x=83.176 y=30.346 orient=1.2362], [x=83.176 y=30.346 orient=1.2362], [x=83.824 y=30.142 orient=1.1405], [x=78.835 y=24.875 orient=1.6165], [x=83.416 y=30.131 orient=1.1978], [x=83.681 y=30.084 orient=1.1454], [x=83.256 y=30.046 orient=1.1860], [x=83.256 y=30.046 orient=1.1860], [x=82.668 y=30.506 orient=1.3188], [x=83.634 y=29.886 orient=1.1812], [x=82.514 y=30.590 orient=1.2836], [x=82.848 y=30.269 orient=1.2508], [x=83.664 y=30.051 orient=1.1727], [x=83.664 y=30.051 orient=1.1727], [x=83.030 y=30.212 orient=1.2669], [x=83.220 y=30.389 orient=1.2260], [x=83.220 y=30.389 orient=1.2260], [x=83.498 y=30.158 orient=1.1610], [x=83.498 y=30.158 orient=1.1610], [x=83.256 y=30.278 orient=1.2347], [x=83.256 y=30.278 orient=1.2347], [x=83.145 y=30.186 orient=1.1905], [x=83.341 y=30.148 orient=1.1598], [x=82.712 y=30.310 orient=1.2717], [x=82.947 y=30.346 orient=1.2969], [x=83.069 y=30.181 orient=1.2608], [x=83.561 y=29.926 orient=1.1503], [x=83.541 y=29.991 orient=1.1893], [x=83.477 y=30.000 orient=1.2020], [x=83.477 y=30.000 orient=1.2020], [x=82.430 y=30.553 orient=1.3344], [x=82.724 y=30.308 orient=1.2606], [x=82.724 y=30.308 orient=1.2606], [x=82.724 y=30.308 orient=1.2606], [x=83.290 y=30.079 orient=1.1597], [x=82.918 y=30.296 orient=1.2453], [x=82.918 y=30.296 orient=1.2453], [x=83.171 y=30.313 orient=1.2207], [x=91.749 y=27.808 orient=0.1047], [x=83.501 y=30.076 orient=1.1580], [x=83.099 y=30.296 orient=1.2461], [x=82.553 y=30.487 orient=1.2725], [x=83.122 y=30.256 orient=1.2165], [x=82.511 y=30.479 orient=1.3107], [x=83.066 y=30.262 orient=1.2390], [x=82.980 y=30.164 orient=1.2951], [x=83.588 y=30.106 orient=1.1406], [x=83.588 y=30.106 orient=1.1406], [x=83.588 y=30.106 orient=1.1406], [x=82.909 y=30.280 orient=1.2795], [x=83.338 y=30.128 orient=1.1881], [x=83.745 y=29.865 orient=1.1206], [x=83.598 y=30.036 orient=1.1610], [x=82.417 y=30.488 orient=1.2879], [x=83.921 y=29.903 orient=1.1417], [x=82.089 y=30.571 orient=1.4133], [x=82.956 y=30.347 orient=1.2342], [x=83.293 y=30.176 orient=1.2160], [x=83.293 y=30.176 orient=1.2160], [x=83.311 y=30.105 orient=1.2179], [x=83.725 y=30.123 orient=1.1410], [x=81.622 y=30.816 orient=1.4130], [x=81.817 y=30.872 orient=1.3767], [x=82.546 y=30.409 orient=1.3138], [x=82.546 y=30.409 orient=1.3138], [x=82.120 y=30.590 orient=1.3604], [x=83.814 y=30.007 orient=1.1187], [x=83.086 y=30.197 orient=1.2674], [x=82.985 y=30.258 orient=1.2629], [x=82.851 y=30.234 orient=1.2462], [x=83.049 y=30.323 orient=1.2739], [x=83.049 y=30.323 orient=1.2739], [x=83.256 y=30.083 orient=1.2167], [x=83.687 y=29.958 orient=1.1280], [x=83.687 y=29.958 orient=1.1280], [x=82.712 y=30.249 orient=1.2543], [x=83.720 y=29.949 orient=1.1214], [x=83.589 y=30.012 orient=1.1507], [x=83.589 y=30.012 orient=1.1507], [x=83.125 y=30.274 orient=1.2485], [x=83.125 y=30.274 orient=1.2485], [x=83.125 y=30.274 orient=1.2485], [x=83.397 y=30.033 orient=1.1657], [x=83.397 y=30.033 orient=1.1657], [x=82.332 y=30.414 orient=1.3273], [x=83.348 y=30.069 orient=1.2227], [x=81.803 y=30.644 orient=1.3833], [x=82.237 y=30.627 orient=1.3437], [x=82.891 y=30.360 orient=1.2041], [x=82.891 y=30.360 orient=1.2041], [x=83.218 y=30.193 orient=1.2001], [x=84.416 y=29.646 orient=1.0491], [x=83.132 y=30.349 orient=1.2257], [x=83.132 y=30.349 orient=1.2257], [x=83.200 y=30.207 orient=1.1839], [x=83.668 y=30.046 orient=1.1450], [x=82.957 y=30.230 orient=1.2066], [x=82.041 y=30.502 orient=1.3986], [x=83.428 y=30.136 orient=1.1792], [x=83.428 y=30.136 orient=1.1792], [x=83.506 y=30.044 orient=1.1969], [x=83.690 y=29.912 orient=1.1950], [x=82.786 y=30.372 orient=1.2880], [x=82.786 y=30.372 orient=1.2880], [x=82.805 y=30.411 orient=1.2454], [x=82.805 y=30.411 orient=1.2454], [x=83.192 y=30.222 orient=1.2390], [x=83.507 y=30.189 orient=1.2068], [x=83.267 y=30.151 orient=1.2656], [x=83.880 y=29.879 orient=1.1326], [x=83.880 y=29.879 orient=1.1326], [x=83.880 y=29.879 orient=1.1326], [x=83.295 y=30.289 orient=1.2281], [x=83.295 y=30.289 orient=1.2281], [x=83.135 y=30.121 orient=1.2331], [x=83.147 y=30.239 orient=1.2387], [x=83.489 y=30.090 orient=1.1644], [x=83.489 y=30.090 orient=1.1644], [x=83.707 y=30.018 orient=1.1255], [x=82.452 y=30.408 orient=1.2862], [x=84.506 y=29.635 orient=1.0634], [x=84.506 y=29.635 orient=1.0634], [x=83.160 y=30.240 orient=1.2204], [x=83.160 y=30.240 orient=1.2204], [x=84.173 y=29.740 orient=1.0617], [x=82.495 y=30.493 orient=1.2804], [x=82.847 y=30.385 orient=1.2724], [x=82.915 y=30.278 orient=1.2527], [x=82.915 y=30.278 orient=1.2527], [x=83.283 y=30.110 orient=1.2135], [x=83.187 y=30.246 orient=1.1912], [x=83.013 y=30.284 orient=1.2262], [x=83.336 y=30.279 orient=1.2462], [x=83.336 y=30.279 orient=1.2462], [x=83.462 y=30.134 orient=1.2130], [x=83.606 y=30.133 orient=1.1863], [x=83.451 y=30.081 orient=1.1450], [x=83.451 y=30.081 orient=1.1450], [x=82.639 y=30.363 orient=1.3185], [x=82.939 y=30.114 orient=1.2752], [x=82.939 y=30.114 orient=1.2752], [x=83.305 y=30.288 orient=1.2472], [x=83.233 y=30.308 orient=1.2440], [x=83.233 y=30.308 orient=1.2440], [x=83.938 y=29.920 orient=1.0852], [x=83.295 y=23.960 orient=1.0628], [x=83.097 y=30.285 orient=1.2246], [x=82.095 y=30.510 orient=1.3877], [x=82.095 y=30.510 orient=1.3877], [x=82.541 y=30.374 orient=1.2942], [x=82.825 y=30.413 orient=1.2642], [x=82.935 y=30.412 orient=1.2433], [x=82.691 y=30.305 orient=1.3376], [x=82.244 y=30.458 orient=1.3397], [x=83.613 y=29.996 orient=1.2040], [x=83.073 y=30.253 orient=1.2418], [x=82.573 y=30.331 orient=1.3423], [x=82.573 y=30.331 orient=1.3423], [x=83.276 y=30.151 orient=1.1885], [x=82.402 y=30.598 orient=1.3560], [x=83.006 y=30.189 orient=1.2169], [x=82.683 y=30.393 orient=1.2920], [x=82.905 y=30.410 orient=1.2510], [x=82.390 y=30.539 orient=1.3594], [x=82.390 y=30.539 orient=1.3594], [x=83.587 y=30.067 orient=1.1864], [x=83.587 y=30.067 orient=1.1864], [x=82.325 y=30.519 orient=1.3526], [x=82.325 y=30.519 orient=1.3526], [x=82.882 y=30.413 orient=1.2408], [x=82.882 y=30.413 orient=1.2408], [x=82.783 y=30.418 orient=1.2598], [x=82.783 y=30.418 orient=1.2598], [x=82.988 y=30.293 orient=1.2095], [x=82.984 y=30.204 orient=1.2671], [x=83.212 y=30.175 orient=1.2370], [x=82.592 y=30.410 orient=1.2467], [x=83.389 y=30.164 orient=1.1824], [x=83.389 y=30.164 orient=1.1824], [x=82.675 y=30.500 orient=1.2802], [x=82.881 y=30.263 orient=1.2746], [x=83.802 y=29.934 orient=1.1243], [x=83.357 y=30.043 orient=1.1955], [x=83.357 y=30.043 orient=1.1955], [x=83.538 y=29.944 orient=1.1648], [x=83.538 y=29.944 orient=1.1648], [x=83.538 y=29.944 orient=1.1648], [x=83.482 y=30.157 orient=1.2415], [x=83.512 y=29.989 orient=1.2245], [x=83.512 y=29.989 orient=1.2245], [x=83.551 y=30.009 orient=1.1592], [x=83.486 y=30.061 orient=1.1753], [x=83.219 y=30.206 orient=1.2319], [x=83.260 y=30.136 orient=1.2295], [x=83.730 y=29.865 orient=1.1210], [x=83.987 y=29.860 orient=1.1115], [x=83.987 y=29.860 orient=1.1115], [x=83.957 y=29.790 orient=1.1108], [x=83.371 y=30.050 orient=1.2005], [x=83.371 y=30.050 orient=1.2005], [x=81.918 y=30.905 orient=1.3586], [x=83.409 y=30.149 orient=1.2037], [x=83.781 y=30.079 orient=1.1297], [x=82.211 y=30.619 orient=1.3441], [x=83.714 y=29.981 orient=1.1423]]\n"
     ]
    }
   ],
   "source": [
    "print(p)"
   ]
  },
  {
   "cell_type": "code",
   "execution_count": 13,
   "metadata": {
    "collapsed": false
   },
   "outputs": [
    {
     "data": {
      "text/plain": [
       "1.8470375965527845"
      ]
     },
     "execution_count": 13,
     "metadata": {},
     "output_type": "execute_result"
    }
   ],
   "source": []
  },
  {
   "cell_type": "code",
   "execution_count": null,
   "metadata": {
    "collapsed": true
   },
   "outputs": [],
   "source": []
  }
 ],
 "metadata": {
  "anaconda-cloud": {},
  "kernelspec": {
   "display_name": "Python [default]",
   "language": "python",
   "name": "python3"
  },
  "language_info": {
   "codemirror_mode": {
    "name": "ipython",
    "version": 3
   },
   "file_extension": ".py",
   "mimetype": "text/x-python",
   "name": "python",
   "nbconvert_exporter": "python",
   "pygments_lexer": "ipython3",
   "version": "3.5.2"
  }
 },
 "nbformat": 4,
 "nbformat_minor": 2
}
